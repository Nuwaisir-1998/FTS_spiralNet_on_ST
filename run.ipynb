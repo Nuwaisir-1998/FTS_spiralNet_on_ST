{
 "metadata": {
  "language_info": {
   "codemirror_mode": {
    "name": "ipython",
    "version": 3
   },
   "file_extension": ".py",
   "mimetype": "text/x-python",
   "name": "python",
   "nbconvert_exporter": "python",
   "pygments_lexer": "ipython3",
   "version": "3.7.14"
  },
  "orig_nbformat": 2,
  "kernelspec": {
   "name": "python3",
   "display_name": "Python 3.7.14 64-bit"
  }
 },
 "nbformat": 4,
 "nbformat_minor": 2,
 "cells": [
  {
   "cell_type": "code",
   "execution_count": 24,
   "metadata": {},
   "outputs": [],
   "source": [
    "import os\n",
    "import numpy as np\n",
    "from imageio import imread\n",
    "from imageio import imwrite\n",
    "import os\n",
    "import random\n",
    "from PIL import Image as im"
   ]
  },
  {
   "cell_type": "code",
   "execution_count": 87,
   "metadata": {},
   "outputs": [],
   "source": [
    "def next_power_of_2(x):  \n",
    "    return 1 if x == 0 else 2**(x - 1).bit_length()\n"
   ]
  },
  {
   "cell_type": "code",
   "execution_count": 104,
   "metadata": {},
   "outputs": [],
   "source": [
    "def make_row_col_power_of_2(x):\n",
    "    n = x.shape[0]\n",
    "    m = x.shape[1]\n",
    "    n_new = next_power_of_2(n)\n",
    "    m_new = next_power_of_2(m)\n",
    "    extra_n = n_new - n\n",
    "    extra_m = m_new - m\n",
    "    x_new = np.pad(x, ((extra_n//2, extra_n-extra_n//2), (extra_m//2, extra_m-extra_m//2), (0, 0)), 'constant')\n",
    "    return x_new"
   ]
  },
  {
   "cell_type": "code",
   "execution_count": 100,
   "metadata": {},
   "outputs": [],
   "source": [
    "def normalize_and_scale_and_reshape(x):\n",
    "    x = make_row_col_power_of_2(x)\n",
    "    mins = x.min(axis=2)\n",
    "    new_matrix = x - mins[:, :, np.newaxis]\n",
    "    sums = new_matrix.sum(axis=2)\n",
    "    sums += 1\n",
    "    new_matrix = x / sums[:, :, np.newaxis]\n",
    "    return np.round(new_matrix * 255).astype('uint8')"
   ]
  },
  {
   "cell_type": "code",
   "execution_count": 99,
   "metadata": {},
   "outputs": [
    {
     "output_type": "execute_result",
     "data": {
      "text/plain": [
       "(4, 4, 3)"
      ]
     },
     "metadata": {},
     "execution_count": 99
    }
   ],
   "source": [
    "# v = np.array([\n",
    "#     [[1,2,3], [3,4,1]],\n",
    "#     [[1,5,3], [4,3,1]]\n",
    "# ])\n",
    "# # normalize_and_scale(v)\n",
    "# # np.argwhere(v == 2)\n",
    "# a = np.array([[1, 2, 3], [1, 4, 5]])\n",
    "# v = make_row_col_power_of_2(v)\n",
    "# v.shape\n",
    "# # a.shape"
   ]
  },
  {
   "cell_type": "code",
   "execution_count": 102,
   "metadata": {},
   "outputs": [],
   "source": [
    "def make_dlpfc_dataset_images():\n",
    "    samples = ['151673', '151674', '151675', '151676']\n",
    "    for sample in samples:\n",
    "        pixel_npy = np.load(f'/content/drive/MyDrive/Nuwaisir/Thesis_updated/ScribbleSeg_updated/Algorithms/Unsupervised_Segmentation/Approaches/With_Scribbles/Local_Data/Human_DLPFC/{sample}/Npys/mapped_15.npy')\n",
    "        pixel_npy_pc3 = pixel_npy[:, :, :3]\n",
    "        pixel_npy_pc3 = normalize_and_scale_and_reshape(pixel_npy_pc3)\n",
    "        data = im.fromarray(pixel_npy_pc3)\n",
    "        data.save(f'./datasets/Human_DLPFC_3pc_images/{sample}.png')"
   ]
  },
  {
   "cell_type": "code",
   "execution_count": 106,
   "metadata": {},
   "outputs": [],
   "source": [
    "make_dlpfc_dataset_images()"
   ]
  },
  {
   "cell_type": "code",
   "execution_count": 57,
   "metadata": {},
   "outputs": [],
   "source": [
    "def make_dlpfc_dataset():\n",
    "    samples = ['151673', '151674', '151675', '151676']\n",
    "    for sample in samples:\n",
    "        pixel_npy = np.load(f'/content/drive/MyDrive/Nuwaisir/Thesis_updated/ScribbleSeg_updated/Algorithms/Unsupervised_Segmentation/Approaches/With_Scribbles/Local_Data/Human_DLPFC/{sample}/Npys/mapped_15.npy')\n",
    "        pixel_npy_pc3 = pixel_npy[:, :, :3]\n",
    "        np.save(f'./datasets/Human_DLPFC/{sample}.npy', pixel_npy_pc3)"
   ]
  },
  {
   "cell_type": "code",
   "execution_count": 71,
   "metadata": {},
   "outputs": [],
   "source": [
    "make_dlpfc_dataset()"
   ]
  },
  {
   "cell_type": "code",
   "execution_count": 2,
   "metadata": {},
   "outputs": [],
   "source": [
    "def make_train_list(from_folder, train_list_folder_path):\n",
    "    with open(f'{train_list_folder_path}/train.flist', 'a') as the_file:\n",
    "        for file_name in os.listdir(from_folder):\n",
    "            abs_path = os.path.abspath(f'{from_folder}/{file_name}')\n",
    "            the_file.write(f'{abs_path}\\n')\n",
    "        "
   ]
  },
  {
   "cell_type": "code",
   "execution_count": 11,
   "metadata": {},
   "outputs": [],
   "source": [
    "def make_mask_list(from_folder, mask_list_folder_path):\n",
    "    with open(f'{mask_list_folder_path}/mask.flist', 'a') as the_file:\n",
    "        for file_name in os.listdir(from_folder):\n",
    "            abs_path = os.path.abspath(f'{from_folder}/{file_name}')\n",
    "            the_file.write(f'{abs_path}\\n')"
   ]
  },
  {
   "cell_type": "code",
   "execution_count": 75,
   "metadata": {},
   "outputs": [],
   "source": [
    "make_train_list('./datasets/Human_DLPFC_3pc_images', './flists/dlpfc')"
   ]
  },
  {
   "cell_type": "code",
   "execution_count": 12,
   "metadata": {},
   "outputs": [],
   "source": [
    "make_mask_list('./datasets/Human_DLPFC_3pc_images', './flists/dlpfc')"
   ]
  },
  {
   "cell_type": "code",
   "execution_count": 4,
   "metadata": {},
   "outputs": [],
   "source": [
    "def gen_mask(src_folder_path, file_name, slice_len, dest_folder_path):\n",
    "    data = imread(f'{src_folder_path}/{file_name}')\n",
    "    n = data.shape[0]\n",
    "    m = data.shape[1]\n",
    "    pos_r = random.randint(0, n - slice_len)\n",
    "    pos_c = random.randint(0, m - slice_len)\n",
    "    mask = np.zeros((n, m), dtype='uint8')\n",
    "    mask[pos_r: pos_r + slice_len, pos_c: pos_c + slice_len] = 255\n",
    "    file_name_splitted = file_name.split('.')\n",
    "    new_file_name = file_name_splitted[0] + '_mask.' + file_name_splitted[1]\n",
    "    imwrite(f'{dest_folder_path}/{new_file_name}', mask)\n",
    "    # print(data.shape)"
   ]
  },
  {
   "cell_type": "code",
   "execution_count": 7,
   "metadata": {},
   "outputs": [],
   "source": [
    "gen_mask('./datasets/pics', 'bird1.png', 100, './masks/pics')"
   ]
  },
  {
   "cell_type": "code",
   "execution_count": null,
   "metadata": {},
   "outputs": [],
   "source": []
  }
 ]
}